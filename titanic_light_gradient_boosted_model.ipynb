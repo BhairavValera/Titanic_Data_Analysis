{
 "cells": [
  {
   "cell_type": "code",
   "execution_count": 35,
   "metadata": {},
   "outputs": [],
   "source": [
    "import pandas as pd\n",
    "import lightgbm as lgb\n",
    "from sklearn.model_selection import train_test_split\n",
    "from sklearn.preprocessing import LabelEncoder\n",
    "from sklearn.impute import SimpleImputer\n",
    "from sklearn import metrics"
   ]
  },
  {
   "cell_type": "code",
   "execution_count": 36,
   "metadata": {},
   "outputs": [],
   "source": [
    "X_full = pd.read_csv('train.csv')\n",
    "X_test_full = pd.read_csv('test.csv')"
   ]
  },
  {
   "cell_type": "code",
   "execution_count": 37,
   "metadata": {},
   "outputs": [],
   "source": [
    "y = X_full['Survived']\n",
    "X_full.drop(['Survived'], axis=1, inplace=True)\n",
    "X_full.drop([\"Name\", \"Ticket\", \"Cabin\"], axis=1, inplace=True)"
   ]
  },
  {
   "cell_type": "code",
   "execution_count": 38,
   "metadata": {},
   "outputs": [],
   "source": [
    "X_train_full, X_valid_full, y_train, y_valid = train_test_split(X_full, y, train_size=0.80, test_size=0.20, random_state=3)"
   ]
  },
  {
   "cell_type": "code",
   "execution_count": 39,
   "metadata": {},
   "outputs": [
    {
     "name": "stderr",
     "output_type": "stream",
     "text": [
      "c:\\users\\bhairav valera\\appdata\\local\\programs\\python\\python38\\lib\\site-packages\\pandas\\core\\frame.py:2963: SettingWithCopyWarning: \n",
      "A value is trying to be set on a copy of a slice from a DataFrame.\n",
      "Try using .loc[row_indexer,col_indexer] = value instead\n",
      "\n",
      "See the caveats in the documentation: https://pandas.pydata.org/pandas-docs/stable/user_guide/indexing.html#returning-a-view-versus-a-copy\n",
      "  self[k1] = value[k2]\n"
     ]
    }
   ],
   "source": [
    "categorical_features = [fname for fname in X_full.columns\n",
    "                        if X_full[fname].dtype == 'object']\n",
    "\n",
    "encoder = LabelEncoder()\n",
    "X_train_full[categorical_features] = (X_train_full[categorical_features].astype(str))\n",
    "X_valid_full[categorical_features] = (X_valid_full[categorical_features].astype(str))\n",
    "\n",
    "encoded_X_train_full = X_train_full[categorical_features].apply(encoder.fit_transform)\n",
    "numerical_X_train_full = X_train_full.drop(categorical_features, axis=1)\n",
    "X_train_full = pd.concat([numerical_X_train_full, encoded_X_train_full], axis=1)\n",
    "\n",
    "encoded_X_valid_full = X_valid_full[categorical_features].apply(encoder.fit_transform)\n",
    "numerical_X_valid_full = X_valid_full.drop(categorical_features, axis=1)\n",
    "X_valid_full = pd.concat([numerical_X_valid_full, encoded_X_valid_full], axis=1)"
   ]
  },
  {
   "cell_type": "code",
   "execution_count": 40,
   "metadata": {},
   "outputs": [],
   "source": [
    "#For all features that have missing values, fill them in accordingly\n",
    "imputer = SimpleImputer()\n",
    "imputed_X_train_full = pd.DataFrame(imputer.fit_transform(X_train_full))\n",
    "imputed_X_valid_full = pd.DataFrame(imputer.transform(X_valid_full))\n",
    "\n",
    "imputed_X_train_full.columns = X_train_full.columns\n",
    "imputed_X_valid_full.columns = X_valid_full.columns\n",
    "\n",
    "features = ['Pclass', 'Sex', 'Embarked', 'Age', 'SibSp', 'Parch', 'Fare']\n",
    "X_train = imputed_X_train_full[features].copy()\n",
    "X_valid = imputed_X_valid_full[features].copy()"
   ]
  },
  {
   "cell_type": "code",
   "execution_count": 41,
   "metadata": {},
   "outputs": [],
   "source": [
    "X_train_dataset = lgb.Dataset(X_train[features], label=y_train)\n",
    "X_valid_dataset = lgb.Dataset(X_valid[features], label=y_valid)\n",
    "\n",
    "param = {'num_leaves' : 64, 'objective' : 'binary'}\n",
    "param['metric'] = 'auc'\n",
    "\n",
    "lgb_model = lgb.train(param, X_train_dataset, 1000, valid_sets = [X_valid_dataset], verbose_eval=False)"
   ]
  },
  {
   "cell_type": "code",
   "execution_count": 42,
   "metadata": {},
   "outputs": [],
   "source": [
    "X_test_full.drop([\"Name\", \"Ticket\", \"Cabin\"], axis=1, inplace=True)\n",
    "X_test_full[categorical_features] = (X_test_full[categorical_features].astype(str))"
   ]
  },
  {
   "cell_type": "code",
   "execution_count": 43,
   "metadata": {},
   "outputs": [
    {
     "name": "stdout",
     "output_type": "stream",
     "text": [
      "0.8477064220183486\n"
     ]
    }
   ],
   "source": [
    "y_pred = lgb_model.predict(X_valid)\n",
    "print(metrics.roc_auc_score(y_valid, y_pred))"
   ]
  },
  {
   "cell_type": "code",
   "execution_count": 44,
   "metadata": {},
   "outputs": [
    {
     "name": "stdout",
     "output_type": "stream",
     "text": [
      "418\n",
      "418\n"
     ]
    }
   ],
   "source": [
    "encoded_X_test_full = X_test_full[categorical_features].apply(encoder.fit_transform)\n",
    "numerical_X_test_full = X_test_full.drop(categorical_features, axis=1)\n",
    "X_test_full = pd.concat([numerical_X_test_full, encoded_X_test_full], axis=1)\n",
    "\n",
    "print(len(X_test_full))\n",
    "\n",
    "imputed_X_test_full = pd.DataFrame(imputer.transform(X_test_full))\n",
    "imputed_X_test_full.columns = X_test_full.columns\n",
    "X_test = imputed_X_test_full[features].copy()\n",
    "\n",
    "print(len(X_test))"
   ]
  },
  {
   "cell_type": "code",
   "execution_count": 45,
   "metadata": {},
   "outputs": [
    {
     "name": "stdout",
     "output_type": "stream",
     "text": [
      "     PassengerId  Survived\n",
      "0            892         0\n",
      "1            893         0\n",
      "2            894         0\n",
      "3            895         1\n",
      "4            896         0\n",
      "..           ...       ...\n",
      "413         1305         0\n",
      "414         1306         1\n",
      "415         1307         0\n",
      "416         1308         0\n",
      "417         1309         0\n",
      "\n",
      "[418 rows x 2 columns]\n"
     ]
    }
   ],
   "source": [
    "submission = pd.DataFrame()\n",
    "test_pred = np.round(lgb_model.predict(X_test, lgb_model.best_iteration)).astype(int)\n",
    "submission = pd.DataFrame({'PassengerId': imputed_X_test_full.PassengerId,\n",
    "                       'Survived': test_pred})\n",
    "submission = submission.astype({'PassengerId':int, 'Survived':int})\n",
    "submission.to_csv('submission.csv', index=False)\n",
    "print(submission)"
   ]
  }
 ],
 "metadata": {
  "kernelspec": {
   "display_name": "Python 3",
   "language": "python",
   "name": "python3"
  },
  "language_info": {
   "codemirror_mode": {
    "name": "ipython",
    "version": 3
   },
   "file_extension": ".py",
   "mimetype": "text/x-python",
   "name": "python",
   "nbconvert_exporter": "python",
   "pygments_lexer": "ipython3",
   "version": "3.8.3"
  }
 },
 "nbformat": 4,
 "nbformat_minor": 4
}
